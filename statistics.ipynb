{
 "cells": [
  {
   "cell_type": "code",
   "execution_count": 1,
   "metadata": {},
   "outputs": [],
   "source": [
    "from scipy.stats import binom\n",
    "import matplotlib.pyplot as plt"
   ]
  },
  {
   "cell_type": "code",
   "execution_count": 2,
   "metadata": {},
   "outputs": [
    {
     "data": {
      "image/png": "[encoded data removed]",
      "text/plain": [
       "<Figure size 432x288 with 1 Axes>"
      ]
     },
     "metadata": {
      "needs_background": "light"
     },
     "output_type": "display_data"
    }
   ],
   "source": [
    "fig, ax = plt.subplots(1, 1)\n",
    "x = [0, 1, 2, 3, 4, 5, 6]\n",
    "n, p = 6, 0.5\n",
    "rv = binom(n, p)\n",
    "ax.vlines(x, 0, rv.pmf(x), colors = 'k', linestyles = '-', lw = 3, label = 'Probability')\n",
    "ax.legend(loc = 'best', frameon = False)\n",
    "plt.show()"
   ]
  },
  {
   "cell_type": "code",
   "execution_count": 3,
   "metadata": {},
   "outputs": [],
   "source": [
    "# The binom function in the scipy package helps generate binomial distributions and necessary statistics related \n",
    "# to it. The plt.subplots function helps in generating multiple plots on a screen. The binom function takes in the \n",
    "# number of attempts and the probability of success. The ax.vlines is used to plot vertical lines and rv.pmf \n",
    "# within it helps in calculating the probability at various values of x "
   ]
  },
  {
   "cell_type": "code",
   "execution_count": 4,
   "metadata": {},
   "outputs": [],
   "source": [
    "# As you can see in the graph, if the coin is flipped six times, then getting\n",
    "# three heads has the maximum probability, whereas getting a single head\n",
    "# or five heads has the least probability."
   ]
  },
  {
   "cell_type": "code",
   "execution_count": 5,
   "metadata": {},
   "outputs": [],
   "source": [
    "# now lets increase the number of attempts"
   ]
  },
  {
   "cell_type": "code",
   "execution_count": 6,
   "metadata": {},
   "outputs": [
    {
     "data": {
      "image/png": "[encoded data removed]",
      "text/plain": [
       "<Figure size 432x288 with 1 Axes>"
      ]
     },
     "metadata": {
      "needs_background": "light"
     },
     "output_type": "display_data"
    }
   ],
   "source": [
    "fig, ax = plt.subplots(1, 1)\n",
    "x = range(101)\n",
    "n, p = 100, 0.5\n",
    "rv = binom(n, p)\n",
    "ax.vlines(x, 0, rv.pmf(x), colors = 'k', linestyles = '-', lw = 1, label = 'Probability')\n",
    "ax.legend(loc = 'best', frameon = False)\n",
    "plt.show()"
   ]
  },
  {
   "cell_type": "code",
   "execution_count": 7,
   "metadata": {},
   "outputs": [
    {
     "data": {
      "image/png": "[encoded data removed]",
      "text/plain": [
       "<Figure size 432x288 with 1 Axes>"
      ]
     },
     "metadata": {
      "needs_background": "light"
     },
     "output_type": "display_data"
    }
   ],
   "source": [
    "fig, ax = plt.subplots(1,1)\n",
    "x = range(101)\n",
    "n, p = 100, 0.4\n",
    "rv = binom(n, p)\n",
    "ax.vlines(x, 0, rv.pmf(x), colors = 'k', linestyles = '-', lw = 1, label = 'Probability')\n",
    "ax.legend(loc = 'best', frameon = False)\n",
    "plt.show()"
   ]
  },
  {
   "cell_type": "code",
   "execution_count": 8,
   "metadata": {},
   "outputs": [
    {
     "data": {
      "image/png": "[encoded data removed]",
      "text/plain": [
       "<Figure size 432x288 with 1 Axes>"
      ]
     },
     "metadata": {
      "needs_background": "light"
     },
     "output_type": "display_data"
    }
   ],
   "source": [
    "fig, ax = plt.subplots(1,1)\n",
    "x = range(101)\n",
    "n, p = 100, 0.6\n",
    "rv = binom(n, p)\n",
    "ax.vlines(x, 0, rv.pmf(x), colors = 'k', linestyles = '-', lw = 1, label = 'Probability')\n",
    "ax.legend(loc = 'best', frameon = False)\n",
    "plt.show()"
   ]
  },
  {
   "cell_type": "code",
   "execution_count": 9,
   "metadata": {},
   "outputs": [],
   "source": [
    "# A Poisson distribution is the probability distribution of independent\n",
    "# interval occurrences in an interval. A binomial distribution is used to\n",
    "# determine the probability of binary occurrences, whereas, a Poisson\n",
    "# distribution is used for count-based distributions. If lambda is the mean\n",
    "# occurrence of the events per interval, then the probability of having a k\n",
    "# occurrence within a given interval is given by the following formula:\n",
    "# Here, e is the Euler's number, k is the number of occurrences for which\n",
    "# the probability is going to be determined, and lambda is the mean\n",
    "# number of occurrences.\n",
    "# Let's understand this with an example. The number of cars that pass\n",
    "# through a bridge in an hour is 20. What would be the probability of 23\n",
    "# cars passing through the bridge in an hour?"
   ]
  },
  {
   "cell_type": "code",
   "execution_count": 10,
   "metadata": {},
   "outputs": [
    {
     "data": {
      "text/plain": [
       "0.06688147366240117"
      ]
     },
     "execution_count": 10,
     "metadata": {},
     "output_type": "execute_result"
    }
   ],
   "source": [
    "from scipy.stats import poisson\n",
    "rv = poisson(20)\n",
    "rv.pmf(23)"
   ]
  },
  {
   "cell_type": "code",
   "execution_count": 11,
   "metadata": {},
   "outputs": [],
   "source": [
    "# With the Poisson function, we define the mean value, which is 20 cars.\n",
    "# The rv.pmf function gives the probability, which is around 6%, that 23\n",
    "# cars will pass the bridge."
   ]
  },
  {
   "cell_type": "code",
   "execution_count": 12,
   "metadata": {},
   "outputs": [
    {
     "data": {
      "text/plain": [
       "array([1, 1, 1, 0, 1, 0, 1, 1, 0, 1, 1, 1, 1, 0, 0, 1, 1, 0, 1, 1, 1, 1,\n",
       "       0, 1, 1, 1, 0, 1, 1, 0, 0, 1, 1, 1, 1, 0, 1, 1, 1, 1, 1, 1, 1, 1,\n",
       "       1, 1, 0, 1, 1, 0, 1, 0, 0, 1, 0, 1, 1, 0, 1, 0, 0, 1, 1, 0, 0, 1,\n",
       "       1, 0, 0, 1, 1, 0, 1, 1, 1, 0, 1, 1, 1, 0, 0, 1, 1, 1, 1, 0, 1, 0,\n",
       "       0, 1, 0, 0, 1, 0, 1, 1, 1, 0, 1, 1])"
      ]
     },
     "execution_count": 12,
     "metadata": {},
     "output_type": "execute_result"
    }
   ],
   "source": [
    "#bernoulli\n",
    "from scipy import stats\n",
    "stats.bernoulli.rvs(0.7, size = 100)\n",
    "# If the preceding output is the number of votes for a candidate by people,\n",
    "# then the candidate has 70% of the votes."
   ]
  },
  {
   "cell_type": "markdown",
   "metadata": {},
   "source": [
    "# z-score"
   ]
  },
  {
   "cell_type": "code",
   "execution_count": 13,
   "metadata": {},
   "outputs": [
    {
     "data": {
      "text/plain": [
       "array([77., 62., 53., 29., 35., 51., 59., 41., 53., 33., 45., 62., 42.,\n",
       "       32., 41., 40., 52., 55., 49., 45., 48., 60., 46., 44., 57., 49.,\n",
       "       30., 55., 33., 46., 57., 42., 36., 41., 57., 43., 52., 50., 48.,\n",
       "       57., 50., 55., 57., 39., 66., 30., 61., 53., 39., 42., 43., 41.,\n",
       "       42., 43., 40., 51., 48., 49., 27., 65.])"
      ]
     },
     "execution_count": 13,
     "metadata": {},
     "output_type": "execute_result"
    }
   ],
   "source": [
    "import numpy as np\n",
    "# A classroom has 60 students in it and they have just got their\n",
    "# mathematics examination score. We simulate the score of these 60\n",
    "# students with a normal distribution using the following command:\n",
    "classscore = np.random.normal(50, 10, 60).round()\n",
    "classscore"
   ]
  },
  {
   "cell_type": "code",
   "execution_count": 14,
   "metadata": {},
   "outputs": [
    {
     "name": "stderr",
     "output_type": "stream",
     "text": [
      "/home/apoorva/.local/lib/python3.6/site-packages/ipykernel_launcher.py:6: MatplotlibDeprecationWarning: \n",
      "The 'normed' kwarg was deprecated in Matplotlib 2.1 and will be removed in 3.1. Use 'density' instead.\n",
      "  \n"
     ]
    },
    {
     "data": {
      "image/png": "[encoded data removed]",
      "text/plain": [
       "<Figure size 432x288 with 1 Axes>"
      ]
     },
     "metadata": {
      "needs_background": "light"
     },
     "output_type": "display_data"
    }
   ],
   "source": [
    "# The NumPy package has a random module that has a normal function,\n",
    "# where 50 is given as the mean of the distribution, 10 is the standard\n",
    "# deviation of the distribution, and 60 is the number of values to be\n",
    "# generated. You can plot the normal distribution with the following\n",
    "# commands:\n",
    "plt.hist(classscore, 30, normed = True)\n",
    "#number of breaks is 30\n",
    "plt.show()"
   ]
  },
  {
   "cell_type": "code",
   "execution_count": 15,
   "metadata": {},
   "outputs": [
    {
     "data": {
      "text/plain": [
       "array([ 2.91308707,  1.43352817,  0.54579284, -1.8215014 , -1.22967784,\n",
       "        0.34851832,  1.1376164 , -0.63785428,  0.54579284, -1.42695236,\n",
       "       -0.24330524,  1.43352817, -0.53921702, -1.52558962, -0.63785428,\n",
       "       -0.73649154,  0.44715558,  0.74306736,  0.1512438 , -0.24330524,\n",
       "        0.05260654,  1.23625366, -0.14466798, -0.3419425 ,  0.94034188,\n",
       "        0.1512438 , -1.72286414,  0.74306736, -1.42695236, -0.14466798,\n",
       "        0.94034188, -0.53921702, -1.13104058, -0.63785428,  0.94034188,\n",
       "       -0.44057976,  0.44715558,  0.24988106,  0.05260654,  0.94034188,\n",
       "        0.24988106,  0.74306736,  0.94034188, -0.8351288 ,  1.82807721,\n",
       "       -1.72286414,  1.33489091,  0.54579284, -0.8351288 , -0.53921702,\n",
       "       -0.44057976, -0.63785428, -0.53921702, -0.44057976, -0.73649154,\n",
       "        0.34851832,  0.05260654,  0.1512438 , -2.01877592,  1.72943995])"
      ]
     },
     "execution_count": 15,
     "metadata": {},
     "output_type": "execute_result"
    }
   ],
   "source": [
    "# The score of each student can be converted to a z-score using the\n",
    "# following functions:\n",
    "stats.zscore(classscore)"
   ]
  },
  {
   "cell_type": "code",
   "execution_count": 16,
   "metadata": {},
   "outputs": [],
   "source": [
    "# So, a student with a score of 60 out of 100 has a z-score of 1.334. To\n",
    "# make more sense of the z-score, we'll use the standard normal table.This table helps in determining the \n",
    "# probability of a score.\n",
    "# We would like to know what the probability of getting a score above 60\n",
    "# would be.\n",
    "# The standard normal table can help us in determining the probability of\n",
    "# the occurrence of the score, but we do not have to perform the\n",
    "# cumbersome task of finding the value by looking through the table and\n",
    "# finding the probability. This task is made simple by the cdf function, which\n",
    "# is the cumulative distribution function:\n",
    "# >>> prob = 1 - stats.norm.cdf(1.334)\n",
    "# >>> prob\n",
    "# 0.091101928265359899\n",
    "# The cdf function gives the probability of getting values up to the z-score\n",
    "# of 1.334 , and doing a minus one of it will give us the probability of getting\n",
    "# a z-score, which is above it. In other words, 0.09 is the probability of\n",
    "# getting marks above 60."
   ]
  },
  {
   "cell_type": "code",
   "execution_count": 17,
   "metadata": {},
   "outputs": [],
   "source": [
    "# Let's ask another question, \"how many students made it to the top 20%\n",
    "# of the class?\"Here, we'll have to work backwards to determine the marks at which all\n",
    "# the students above it are in the top 20% of the class:\n",
    "# Now, to get the z-score at which the top 20% score marks, we can use\n",
    "# the ppf function in SciPy:\n",
    "# >>> stats.norm.ppf(0.80)\n",
    "# 0.8416212335729143\n",
    "# The z-score for the preceding output that determines whether the top\n",
    "# 20% marks are at 0.84 is as follows:\n",
    "# >>> (0.84 * classscore.std()) + classscore.mean()\n",
    "# 55.942594176524267\n",
    "# We multiply the z-score with the standard deviation and then add the\n",
    "# result with the mean of the distribution. This helps in converting the z-\n",
    "# score to a value in the distribution. The 55.83 marks means that students\n",
    "# who have marks more than this are in the top 20% of the distribution."
   ]
  },
  {
   "cell_type": "markdown",
   "metadata": {},
   "source": [
    "# p-score"
   ]
  },
  {
   "cell_type": "code",
   "execution_count": 18,
   "metadata": {},
   "outputs": [
    {
     "data": {
      "text/plain": [
       "2.025351732686597"
      ]
     },
     "execution_count": 18,
     "metadata": {},
     "output_type": "execute_result"
    }
   ],
   "source": [
    "# Let's understand this concept with an example where the null\n",
    "# hypothesis is that it is common for students to score 68 marks in\n",
    "# mathematics.\n",
    "# Let's define the significance level at 5%. If the p-value is less than 5%,\n",
    "# then the null hypothesis is rejected and it is not common to score 68\n",
    "# marks in mathematics.\n",
    "zscore = (68 - classscore.mean())/classscore.std()\n",
    "zscore"
   ]
  },
  {
   "cell_type": "code",
   "execution_count": 19,
   "metadata": {},
   "outputs": [
    {
     "data": {
      "text/plain": [
       "0.021415629972804773"
      ]
     },
     "execution_count": 19,
     "metadata": {},
     "output_type": "execute_result"
    }
   ],
   "source": [
    "# now lets get the value\n",
    "prob = 1 - stats.norm.cdf(zscore)\n",
    "prob"
   ]
  },
  {
   "cell_type": "code",
   "execution_count": 20,
   "metadata": {},
   "outputs": [],
   "source": [
    "# So, you can see that the p-value is at 0.7%, which is lower than the\n",
    "# significance level. This means that the null hypothesis can be rejected,\n",
    "# and it can be said that it's not common to get 68 marks in mathematics."
   ]
  },
  {
   "cell_type": "code",
   "execution_count": 21,
   "metadata": {},
   "outputs": [],
   "source": [
    "# # The example in the previous section was an instance of a one-tailed test\n",
    "# # where the null hypothesis is rejected or accepted based on one direction\n",
    "# # of the normal distribution.\n",
    "# In a two-tailed test, both the tails of the null hypothesis are used to test\n",
    "# the hypothesis.\n",
    "# In a two-tailed test, when a significance level of 5% is used, then it is\n",
    "# distributed equally in the both directions, that is, 2.5% of it in one\n",
    "# direction and 2.5% in the other direction."
   ]
  },
  {
   "cell_type": "code",
   "execution_count": 22,
   "metadata": {},
   "outputs": [],
   "source": [
    "# Let's understand this with an example. The mean score of the\n",
    "# mathematics exam at a national level is 60 marks and the standard\n",
    "# deviation is 3 marks.\n",
    "# The mean marks of a class are 53. The null hypothesis is that the mean\n",
    "# marks of the class are similar to the national average. Let's test this\n",
    "# hypothesis by first getting the z-score 60:"
   ]
  },
  {
   "cell_type": "code",
   "execution_count": 23,
   "metadata": {},
   "outputs": [
    {
     "data": {
      "text/plain": [
       "-2.3333333333333335"
      ]
     },
     "execution_count": 23,
     "metadata": {},
     "output_type": "execute_result"
    }
   ],
   "source": [
    "zscore = ( 53 - 60 ) / 3.0\n",
    "zscore"
   ]
  },
  {
   "cell_type": "code",
   "execution_count": 24,
   "metadata": {},
   "outputs": [
    {
     "data": {
      "text/plain": [
       "0.009815328628645334"
      ]
     },
     "execution_count": 24,
     "metadata": {},
     "output_type": "execute_result"
    }
   ],
   "source": [
    "prob = stats.norm.cdf(zscore)\n",
    "prob"
   ]
  },
  {
   "cell_type": "code",
   "execution_count": 25,
   "metadata": {},
   "outputs": [],
   "source": [
    "# So, the p-value is 0.98%. The null hypothesis is to be rejected, and the p-\n",
    "# value should be less than 2.5% in either direction of the bell curve. Since\n",
    "# the p-value is less than 2.5%, we can reject the null hypothesis and\n",
    "# clearly state that the average marks of the class are significantly different\n",
    "# from the national average."
   ]
  },
  {
   "cell_type": "markdown",
   "metadata": {},
   "source": [
    "# confidence interval"
   ]
  },
  {
   "cell_type": "code",
   "execution_count": 26,
   "metadata": {},
   "outputs": [],
   "source": [
    "# A confidence interval is a type of interval statistics for a population parameter. The confidence interval \n",
    "# helps in determining the interval at which the population mean can be defined."
   ]
  },
  {
   "cell_type": "code",
   "execution_count": 27,
   "metadata": {},
   "outputs": [],
   "source": [
    "# Let's try to understand this concept by using an example. Let's take the\n",
    "# height of every man in Kenya and determine with 95% confidence\n",
    "# interval the average of height of Kenyan men at a national level."
   ]
  },
  {
   "cell_type": "code",
   "execution_count": 28,
   "metadata": {},
   "outputs": [],
   "source": [
    "# Let's take 50 men and their height in centimeters:\n",
    "height_data = np.array([ 186.0, 180.0, 195.0, 189.0, 191.0, 177.0, 161.0, 177.0, 192.0, 182.0, 185.0, 192.0,\n",
    "173.0, 172.0, 191.0, 184.0, 193.0, 182.0, 190.0, 185.0, 181.0, 188.0, 179.0, 188.0, 170.0, 179.0, 180.0, 189.0,\n",
    "188.0, 185.0, 170.0, 197.0, 187.0, 182.0, 173.0, 179.0, 184.0, 177.0, 190.0, 174.0, 203.0, 206.0, 173.0,\n",
    "169.0, 178.0, 201.0, 198.0, 166.0, 171.0, 180.0])"
   ]
  },
  {
   "cell_type": "code",
   "execution_count": 29,
   "metadata": {},
   "outputs": [
    {
     "data": {
      "text/plain": [
       "array([186., 180., 195., 189., 191., 177., 161., 177., 192., 182., 185.,\n",
       "       192., 173., 172., 191., 184., 193., 182., 190., 185., 181., 188.,\n",
       "       179., 188., 170., 179., 180., 189., 188., 185., 170., 197., 187.,\n",
       "       182., 173., 179., 184., 177., 190., 174., 203., 206., 173., 169.,\n",
       "       178., 201., 198., 166., 171., 180.])"
      ]
     },
     "execution_count": 29,
     "metadata": {},
     "output_type": "execute_result"
    }
   ],
   "source": [
    "height_data"
   ]
  },
  {
   "cell_type": "code",
   "execution_count": 30,
   "metadata": {},
   "outputs": [
    {
     "data": {
      "text/plain": [
       "1"
      ]
     },
     "execution_count": 30,
     "metadata": {},
     "output_type": "execute_result"
    }
   ],
   "source": [
    "height_data.ndim"
   ]
  },
  {
   "cell_type": "code",
   "execution_count": 31,
   "metadata": {},
   "outputs": [
    {
     "name": "stderr",
     "output_type": "stream",
     "text": [
      "/home/apoorva/.local/lib/python3.6/site-packages/ipykernel_launcher.py:2: MatplotlibDeprecationWarning: \n",
      "The 'normed' kwarg was deprecated in Matplotlib 2.1 and will be removed in 3.1. Use 'density' instead.\n",
      "  \n"
     ]
    },
    {
     "data": {
      "image/png": "[encoded data removed]",
      "text/plain": [
       "<Figure size 432x288 with 1 Axes>"
      ]
     },
     "metadata": {
      "needs_background": "light"
     },
     "output_type": "display_data"
    }
   ],
   "source": [
    "# Plotting the distribution, it has a normal distribution:\n",
    "plt.hist(height_data, 30, normed = True)\n",
    "plt.show()"
   ]
  },
  {
   "cell_type": "code",
   "execution_count": 32,
   "metadata": {},
   "outputs": [
    {
     "data": {
      "text/plain": [
       "183.24"
      ]
     },
     "execution_count": 32,
     "metadata": {},
     "output_type": "execute_result"
    }
   ],
   "source": [
    "height_data.mean()"
   ]
  },
  {
   "cell_type": "code",
   "execution_count": 33,
   "metadata": {},
   "outputs": [
    {
     "data": {
      "text/plain": [
       "1.3787187190005248"
      ]
     },
     "execution_count": 33,
     "metadata": {},
     "output_type": "execute_result"
    }
   ],
   "source": [
    "# So, the average height of a man from the sample is 183.4 cm.\n",
    "# To determine the confidence interval, we'll now define the standard error\n",
    "# of the mean.\n",
    "# The standard error of the mean is the deviation of the sample mean from\n",
    "# the population mean.\n",
    "stats.sem(height_data)"
   ]
  },
  {
   "cell_type": "code",
   "execution_count": 34,
   "metadata": {},
   "outputs": [],
   "source": [
    "# So, there is a standard error of the mean of 1.38 cm. The lower and\n",
    "# upper limit of the confidence interval can be determined by using the\n",
    "# following formula:\n",
    "# Upper/Lower limit = mean(height) + / - sigma * SEmean(x)\n",
    "# For lower limit:\n",
    "# 183.24 + (1.96 * 1.38) = 185.94\n",
    "# For upper limit:\n",
    "# 183.24 - (1.96*1.38) = 180.53\n",
    "# A 1.96 standard deviation covers 95% of area in the normal distribution.\n",
    "# We can confidently say that the population mean lies between 180.53 cm\n",
    "# and 185.94 cm of height."
   ]
  },
  {
   "cell_type": "code",
   "execution_count": 35,
   "metadata": {},
   "outputs": [],
   "source": [
    "# Let's assume we take a sample of 50 people, record their height, and\n",
    "# then repeat this process 30 times. We can then plot the averages of each\n",
    "# sample and observe the distribution."
   ]
  },
  {
   "cell_type": "code",
   "execution_count": 36,
   "metadata": {},
   "outputs": [
    {
     "name": "stderr",
     "output_type": "stream",
     "text": [
      "/home/apoorva/.local/lib/python3.6/site-packages/ipykernel_launcher.py:5: MatplotlibDeprecationWarning: \n",
      "The 'normed' kwarg was deprecated in Matplotlib 2.1 and will be removed in 3.1. Use 'density' instead.\n",
      "  \"\"\"\n"
     ]
    },
    {
     "data": {
      "image/png": "[encoded data removed]",
      "text/plain": [
       "<Figure size 432x288 with 1 Axes>"
      ]
     },
     "metadata": {
      "needs_background": "light"
     },
     "output_type": "display_data"
    }
   ],
   "source": [
    "average_height = []\n",
    "for i in range(30):\n",
    "    sample50 = np.random.normal(183, 10, 50).round()\n",
    "    average_height.append(sample50.mean())\n",
    "plt.hist(average_height, 20, normed = True)\n",
    "plt.show()"
   ]
  },
  {
   "cell_type": "code",
   "execution_count": 37,
   "metadata": {},
   "outputs": [
    {
     "name": "stderr",
     "output_type": "stream",
     "text": [
      "/home/apoorva/.local/lib/python3.6/site-packages/ipykernel_launcher.py:6: MatplotlibDeprecationWarning: \n",
      "The 'normed' kwarg was deprecated in Matplotlib 2.1 and will be removed in 3.1. Use 'density' instead.\n",
      "  \n"
     ]
    },
    {
     "data": {
      "image/png": "[encoded data removed]",
      "text/plain": [
       "<Figure size 432x288 with 1 Axes>"
      ]
     },
     "metadata": {
      "needs_background": "light"
     },
     "output_type": "display_data"
    }
   ],
   "source": [
    "# Let's see what happens when we sample 1000 men and repeat the process 30 times:\n",
    "average_height = []\n",
    "for i in range(30):\n",
    "    sample1000 = np.random.normal(183, 10, 1000).round()\n",
    "    average_height.append(sample1000)\n",
    "plt.hist(average_height, 10, normed = True)\n",
    "plt.show()"
   ]
  },
  {
   "cell_type": "code",
   "execution_count": 38,
   "metadata": {},
   "outputs": [],
   "source": [
    "# It means that as the sample size increases, the standard error of the\n",
    "# mean decreases, which also means that the confidence interval becomes\n",
    "# narrower, and we can tell with certainty the interval that the population\n",
    "# mean would lie on."
   ]
  },
  {
   "cell_type": "markdown",
   "metadata": {},
   "source": [
    "# correlation\n"
   ]
  },
  {
   "cell_type": "code",
   "execution_count": 39,
   "metadata": {},
   "outputs": [],
   "source": [
    "# Let's take the mileage and horsepower of various cars and see if there is a relation between the two.\n",
    "mpg = [21.0, 21.0, 22.8, 21.4, 18.7, 18.1, 14.3, 24.4, 22.8, 19.2, 17.8, 16.4, 17.3, 15.2, 10.4, 10.4, 14.7,\n",
    "32.4, 30.4, 33.9, 21.5, 15.5, 15.2, 13.3, 19.2, 27.3, 26.0, 30.4, 15.8, 19.7, 15.0, 21.4]\n",
    "hp = [110, 110, 93, 110, 175, 105, 245, 62, 95, 123, 123, 180, 180, 180, 205, 215, 230, 66, 52, 65,\n",
    "97, 150, 150, 245, 175, 66, 91, 113, 264, 175, 335, 109]"
   ]
  },
  {
   "cell_type": "code",
   "execution_count": 40,
   "metadata": {},
   "outputs": [
    {
     "data": {
      "text/plain": [
       "(-0.7761683718265864, 1.787835254121068e-07)"
      ]
     },
     "execution_count": 40,
     "metadata": {},
     "output_type": "execute_result"
    }
   ],
   "source": [
    "stats.pearsonr(mpg, hp)"
   ]
  },
  {
   "cell_type": "code",
   "execution_count": 41,
   "metadata": {},
   "outputs": [],
   "source": [
    "# # The first value of the output gives the correlation between the\n",
    "# # horsepower and the mileage and the second value gives the p-value.\n",
    "# So, the first value tells us that it is highly negatively correlated and the p-\n",
    "# value tells us that there is significant correlation between them:"
   ]
  },
  {
   "cell_type": "code",
   "execution_count": 42,
   "metadata": {},
   "outputs": [
    {
     "data": {
      "image/png": "[encoded data removed]",
      "text/plain": [
       "<Figure size 432x288 with 1 Axes>"
      ]
     },
     "metadata": {
      "needs_background": "light"
     },
     "output_type": "display_data"
    }
   ],
   "source": [
    "plt.scatter(mpg, hp)\n",
    "plt.show()"
   ]
  },
  {
   "cell_type": "code",
   "execution_count": 43,
   "metadata": {},
   "outputs": [],
   "source": [
    "# From the plot, we can see that as the mpg increases, the horsepower\n",
    "# decreases."
   ]
  },
  {
   "cell_type": "code",
   "execution_count": 44,
   "metadata": {},
   "outputs": [],
   "source": [
    "# Let's look into another correlation called the Spearman correlation. The\n",
    "# Spearman correlation applies to the rank order of the values and so it\n",
    "# provides a monotonic relation between the two distributions. It is useful\n",
    "# for ordinal data (data that has an order, such as movie ratings or grades\n",
    "# in class) and is not affected by outliers."
   ]
  },
  {
   "cell_type": "code",
   "execution_count": 45,
   "metadata": {},
   "outputs": [
    {
     "data": {
      "text/plain": [
       "SpearmanrResult(correlation=-0.8946646457499626, pvalue=5.085969430924412e-12)"
      ]
     },
     "execution_count": 45,
     "metadata": {},
     "output_type": "execute_result"
    }
   ],
   "source": [
    "stats.spearmanr(mpg, hp)"
   ]
  },
  {
   "cell_type": "code",
   "execution_count": 46,
   "metadata": {},
   "outputs": [],
   "source": [
    "# t-test"
   ]
  },
  {
   "cell_type": "code",
   "execution_count": 47,
   "metadata": {},
   "outputs": [
    {
     "data": {
      "text/plain": [
       "Ttest_indResult(statistic=-5.458195056848408, pvalue=3.482072285015316e-05)"
      ]
     },
     "execution_count": 47,
     "metadata": {},
     "output_type": "execute_result"
    }
   ],
   "source": [
    "# Let's do a T-test on two classes that are given a mathematics test and\n",
    "# have 10 students in each class:\n",
    "class1_score = np.array([45.0, 40.0, 49.0, 52.0, 54.0, 64.0, 36.0, 41.0, 42.0, 34.0])\n",
    "class2_score = np.array([75.0, 85.0, 53.0, 70.0, 72.0, 93.0, 61.0, 65.0, 65.0, 72.0])\n",
    "# To perform the T-test, we can use the ttest_ind() function in the SciPy package:\n",
    "stats.ttest_ind(class1_score,class2_score)\n"
   ]
  },
  {
   "cell_type": "code",
   "execution_count": 48,
   "metadata": {},
   "outputs": [],
   "source": [
    "# The first value in the output is the calculated t-statistics, whereas the\n",
    "# second value is the p-value and p-value shows that the two distributions\n",
    "# are not identical."
   ]
  },
  {
   "cell_type": "code",
   "execution_count": null,
   "metadata": {},
   "outputs": [],
   "source": []
  }
 ],
 "metadata": {
  "kernelspec": {
   "display_name": "Python 3",
   "language": "python",
   "name": "python3"
  },
  "language_info": {
   "codemirror_mode": {
    "name": "ipython",
    "version": 3
   },
   "file_extension": ".py",
   "mimetype": "text/x-python",
   "name": "python",
   "nbconvert_exporter": "python",
   "pygments_lexer": "ipython3",
   "version": "3.6.8"
  }
 },
 "nbformat": 4,
 "nbformat_minor": 2
}
