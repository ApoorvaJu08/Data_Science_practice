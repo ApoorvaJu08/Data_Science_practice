{
 "cells": [
  {
   "cell_type": "code",
   "execution_count": 1,
   "metadata": {},
   "outputs": [],
   "source": [
    "# The pandas library essentially has three data structures:\n",
    "# 1. Series\n",
    "# 2. DataFrame\n",
    "# 3. Panel"
   ]
  },
  {
   "cell_type": "code",
   "execution_count": 2,
   "metadata": {},
   "outputs": [
    {
     "data": {
      "text/plain": [
       "0    0.441826\n",
       "1    0.625807\n",
       "2    0.895773\n",
       "3    1.102327\n",
       "4    1.847269\n",
       "dtype: float64"
      ]
     },
     "execution_count": 2,
     "metadata": {},
     "output_type": "execute_result"
    }
   ],
   "source": [
    "import pandas as pd\n",
    "import numpy as np\n",
    "pd.Series(np.random.randn(5))\n",
    "# The random.randn parameter is part of the NumPy package and it\n",
    "# generates random numbers. The series function creates a pandas series\n",
    "# that consists of an index, which is the first column, and the second\n",
    "# column consists of random values. At the bottom of the output is the\n",
    "# datatype of the series."
   ]
  },
  {
   "cell_type": "code",
   "execution_count": 3,
   "metadata": {},
   "outputs": [
    {
     "data": {
      "text/plain": [
       "a   -0.378365\n",
       "b   -0.207199\n",
       "c   -0.137651\n",
       "d   -1.381768\n",
       "e   -0.508264\n",
       "dtype: float64"
      ]
     },
     "execution_count": 3,
     "metadata": {},
     "output_type": "execute_result"
    }
   ],
   "source": [
    "# The index of the series can be customized by calling the following:\n",
    "pd.Series(np.random.randn(5), index = ['a', 'b', 'c', 'd', 'e'])"
   ]
  },
  {
   "cell_type": "code",
   "execution_count": 4,
   "metadata": {},
   "outputs": [
    {
     "data": {
      "text/plain": [
       "A    10\n",
       "B    20\n",
       "C    30\n",
       "dtype: int64"
      ]
     },
     "execution_count": 4,
     "metadata": {},
     "output_type": "execute_result"
    }
   ],
   "source": [
    "# A series can be derived from a Python dict too:\n",
    "d = {'A':10, 'B':20, 'C':30}\n",
    "pd.Series(d)"
   ]
  },
  {
   "cell_type": "code",
   "execution_count": 5,
   "metadata": {},
   "outputs": [],
   "source": [
    "# DataFrame is a 2D data structure with columns that can be of different\n",
    "# datatypes. It can be seen as a table. A DataFrame can be formed from\n",
    "# the following data structures:\n",
    "# A NumPy array\n",
    "# Lists\n",
    "# Dicts\n",
    "# Series\n",
    "# A 2D NumPy array"
   ]
  },
  {
   "cell_type": "code",
   "execution_count": 6,
   "metadata": {},
   "outputs": [
    {
     "data": {
      "text/html": [
       "<div>\n",
       "<style scoped>\n",
       "    .dataframe tbody tr th:only-of-type {\n",
       "        vertical-align: middle;\n",
       "    }\n",
       "\n",
       "    .dataframe tbody tr th {\n",
       "        vertical-align: top;\n",
       "    }\n",
       "\n",
       "    .dataframe thead th {\n",
       "        text-align: right;\n",
       "    }\n",
       "</style>\n",
       "<table border=\"1\" class=\"dataframe\">\n",
       "  <thead>\n",
       "    <tr style=\"text-align: right;\">\n",
       "      <th></th>\n",
       "      <th>c1</th>\n",
       "      <th>c2</th>\n",
       "    </tr>\n",
       "  </thead>\n",
       "  <tbody>\n",
       "    <tr>\n",
       "      <th>0</th>\n",
       "      <td>A</td>\n",
       "      <td>1</td>\n",
       "    </tr>\n",
       "    <tr>\n",
       "      <th>1</th>\n",
       "      <td>B</td>\n",
       "      <td>2</td>\n",
       "    </tr>\n",
       "    <tr>\n",
       "      <th>2</th>\n",
       "      <td>C</td>\n",
       "      <td>3</td>\n",
       "    </tr>\n",
       "    <tr>\n",
       "      <th>3</th>\n",
       "      <td>NaN</td>\n",
       "      <td>4</td>\n",
       "    </tr>\n",
       "  </tbody>\n",
       "</table>\n",
       "</div>"
      ],
      "text/plain": [
       "    c1  c2\n",
       "0    A   1\n",
       "1    B   2\n",
       "2    C   3\n",
       "3  NaN   4"
      ]
     },
     "execution_count": 6,
     "metadata": {},
     "output_type": "execute_result"
    }
   ],
   "source": [
    "# A DataFrame can be created from a dict of series by calling the following\n",
    "# commands:\n",
    "d = {'c1': pd.Series(['A', 'B', 'C']), 'c2': pd.Series([1, 2, 3, 4])}\n",
    "df = pd.DataFrame(d)\n",
    "df"
   ]
  },
  {
   "cell_type": "code",
   "execution_count": 7,
   "metadata": {},
   "outputs": [
    {
     "data": {
      "text/html": [
       "<div>\n",
       "<style scoped>\n",
       "    .dataframe tbody tr th:only-of-type {\n",
       "        vertical-align: middle;\n",
       "    }\n",
       "\n",
       "    .dataframe tbody tr th {\n",
       "        vertical-align: top;\n",
       "    }\n",
       "\n",
       "    .dataframe thead th {\n",
       "        text-align: right;\n",
       "    }\n",
       "</style>\n",
       "<table border=\"1\" class=\"dataframe\">\n",
       "  <thead>\n",
       "    <tr style=\"text-align: right;\">\n",
       "      <th></th>\n",
       "      <th>c1</th>\n",
       "      <th>c2</th>\n",
       "    </tr>\n",
       "  </thead>\n",
       "  <tbody>\n",
       "    <tr>\n",
       "      <th>0</th>\n",
       "      <td>A</td>\n",
       "      <td>1.0</td>\n",
       "    </tr>\n",
       "    <tr>\n",
       "      <th>1</th>\n",
       "      <td>B</td>\n",
       "      <td>2.0</td>\n",
       "    </tr>\n",
       "    <tr>\n",
       "      <th>2</th>\n",
       "      <td>C</td>\n",
       "      <td>3.0</td>\n",
       "    </tr>\n",
       "    <tr>\n",
       "      <th>3</th>\n",
       "      <td>D</td>\n",
       "      <td>4.0</td>\n",
       "    </tr>\n",
       "  </tbody>\n",
       "</table>\n",
       "</div>"
      ],
      "text/plain": [
       "  c1   c2\n",
       "0  A  1.0\n",
       "1  B  2.0\n",
       "2  C  3.0\n",
       "3  D  4.0"
      ]
     },
     "execution_count": 7,
     "metadata": {},
     "output_type": "execute_result"
    }
   ],
   "source": [
    "# The DataFrame can be created using a dict of lists too:\n",
    "d = {'c1': ['A', 'B', 'C', 'D'], 'c2': [1, 2.0, 3.0, 4.0]}\n",
    "df = pd.DataFrame(d)\n",
    "df"
   ]
  },
  {
   "cell_type": "code",
   "execution_count": 8,
   "metadata": {},
   "outputs": [
    {
     "name": "stderr",
     "output_type": "stream",
     "text": [
      "/home/apoorva/anaconda3/lib/python3.7/site-packages/IPython/core/interactiveshell.py:3325: FutureWarning: \n",
      "Panel is deprecated and will be removed in a future version.\n",
      "The recommended way to represent these types of 3-dimensional data are with a MultiIndex on a DataFrame, via the Panel.to_frame() method\n",
      "Alternatively, you can use the xarray package http://xarray.pydata.org/en/stable/.\n",
      "Pandas provides a `.to_xarray()` method to help automate this conversion.\n",
      "\n",
      "  exec(code_obj, self.user_global_ns, self.user_ns)\n"
     ]
    },
    {
     "data": {
      "text/plain": [
       "<class 'pandas.core.panel.Panel'>\n",
       "Dimensions: 2 (items) x 4 (major_axis) x 3 (minor_axis)\n",
       "Items axis: Item1 to Item2\n",
       "Major_axis axis: 0 to 3\n",
       "Minor_axis axis: 0 to 2"
      ]
     },
     "execution_count": 8,
     "metadata": {},
     "output_type": "execute_result"
    }
   ],
   "source": [
    "# A Panel is a data structure that handles 3D data. The following command\n",
    "# is an example of panel data:\n",
    "d = {'Item1' : pd.DataFrame(np.random.randn(4,3)), 'Item2' : pd.DataFrame(np.random.randn(4, 2))}\n",
    "pd.Panel(d)\n",
    "# The preceding command shows that there are 2 DataFrames\n",
    "# represented by two items. There are four rows represented by four major\n",
    "# axes and three columns represented by three minor axes."
   ]
  },
  {
   "cell_type": "code",
   "execution_count": 9,
   "metadata": {},
   "outputs": [],
   "source": [
    "# To write a data to the .csv file, the following to_csv function can be used:\n",
    "d = {'c1': pd.Series(['A', 'B', 'C']), 'c2': pd.Series([1, 2., 3., 4.])}\n",
    "df = pd.DataFrame(d)\n",
    "df.to_csv('sample_data.csv')"
   ]
  },
  {
   "cell_type": "code",
   "execution_count": 10,
   "metadata": {},
   "outputs": [],
   "source": [
    "# To read the data from a JSON file, Python's standard json package can\n",
    "# be used. The following commands help in reading the file:\n",
    "# import json\n",
    "# json_data =\n",
    "# open('Data/Student_Weight_Status_Category_Reporting_Results__Beginning_2010.json')\n",
    "# data = json.load(json_data)\n",
    "# json_data.close()\n",
    "# In the preceding command, the open() function opens a connection to the\n",
    "# file. The json.load() function loads the data into Python. The\n",
    "# json_data.close() function closes the connection to the file.\n",
    "# The pandas library also provides a function to read the JSON file, which\n",
    "# can be accessed using pd.read_json() ."
   ]
  },
  {
   "cell_type": "code",
   "execution_count": 11,
   "metadata": {},
   "outputs": [],
   "source": [
    "# Database\n",
    "# To read data from a database, the following function can be used:\n",
    "# >>> pd.read_sql_table(table_name, con)\n",
    "# The preceding command generates a DataFrame. If a table name and an\n",
    "# SQLAlchemy engine are given, they return a DataFrame. This function\n",
    "# does not support the DBAPI connection. The following are the description\n",
    "# of the parameters used:\n",
    "# table_name : This refers to the name\n",
    "# con : This refers to the SQLAlchemy of the SQL table in a database\n",
    "# engine\n",
    "# The following command reads SQL query into a DataFrame:\n",
    "# >>> pd.read_sql_query(sql, con)\n",
    "# The following are the description of the parameters used:\n",
    "# sql : This refers to the SQL query that is to be executed\n",
    "# con : This refers to the SQLAlchemy engine"
   ]
  },
  {
   "cell_type": "code",
   "execution_count": 12,
   "metadata": {},
   "outputs": [],
   "source": [
    "# to check if the location column has missing\n",
    "# value, the following command can be utilized:\n",
    "# >>> d['Location 1'].isnull()\n",
    "# 0 False\n",
    "# 1 False\n",
    "# 2 False\n",
    "# 3 False\n",
    "# 4 False\n",
    "# 5 False\n",
    "# 6 False"
   ]
  },
  {
   "cell_type": "code",
   "execution_count": 13,
   "metadata": {},
   "outputs": [],
   "source": [
    "# To remove the rows, execute the following command:\n",
    "# >>> d = d['Location 1'].dropna()\n",
    "# To remove all the rows with an instance of missing values, use the\n",
    "# following command:\n",
    "# >>> d = d.dropna(how='any')"
   ]
  },
  {
   "cell_type": "code",
   "execution_count": 14,
   "metadata": {},
   "outputs": [],
   "source": [
    "df2 = pd.DataFrame(np.random.randn(5, 3), index = ['a0', 'a10', 'a20', 'a30', 'a40'], columns=['X', 'Y', 'Z'])"
   ]
  },
  {
   "cell_type": "code",
   "execution_count": 15,
   "metadata": {},
   "outputs": [
    {
     "data": {
      "text/html": [
       "<div>\n",
       "<style scoped>\n",
       "    .dataframe tbody tr th:only-of-type {\n",
       "        vertical-align: middle;\n",
       "    }\n",
       "\n",
       "    .dataframe tbody tr th {\n",
       "        vertical-align: top;\n",
       "    }\n",
       "\n",
       "    .dataframe thead th {\n",
       "        text-align: right;\n",
       "    }\n",
       "</style>\n",
       "<table border=\"1\" class=\"dataframe\">\n",
       "  <thead>\n",
       "    <tr style=\"text-align: right;\">\n",
       "      <th></th>\n",
       "      <th>X</th>\n",
       "      <th>Y</th>\n",
       "      <th>Z</th>\n",
       "    </tr>\n",
       "  </thead>\n",
       "  <tbody>\n",
       "    <tr>\n",
       "      <th>a0</th>\n",
       "      <td>0.866531</td>\n",
       "      <td>0.673036</td>\n",
       "      <td>-1.428936</td>\n",
       "    </tr>\n",
       "    <tr>\n",
       "      <th>a10</th>\n",
       "      <td>-0.958417</td>\n",
       "      <td>0.212438</td>\n",
       "      <td>0.700142</td>\n",
       "    </tr>\n",
       "    <tr>\n",
       "      <th>a20</th>\n",
       "      <td>-0.690858</td>\n",
       "      <td>0.534668</td>\n",
       "      <td>-1.072700</td>\n",
       "    </tr>\n",
       "    <tr>\n",
       "      <th>a30</th>\n",
       "      <td>1.077827</td>\n",
       "      <td>-1.640559</td>\n",
       "      <td>-0.329707</td>\n",
       "    </tr>\n",
       "    <tr>\n",
       "      <th>a40</th>\n",
       "      <td>0.996985</td>\n",
       "      <td>0.340751</td>\n",
       "      <td>0.655725</td>\n",
       "    </tr>\n",
       "  </tbody>\n",
       "</table>\n",
       "</div>"
      ],
      "text/plain": [
       "            X         Y         Z\n",
       "a0   0.866531  0.673036 -1.428936\n",
       "a10 -0.958417  0.212438  0.700142\n",
       "a20 -0.690858  0.534668 -1.072700\n",
       "a30  1.077827 -1.640559 -0.329707\n",
       "a40  0.996985  0.340751  0.655725"
      ]
     },
     "execution_count": 15,
     "metadata": {},
     "output_type": "execute_result"
    }
   ],
   "source": [
    "df2"
   ]
  },
  {
   "cell_type": "code",
   "execution_count": 16,
   "metadata": {},
   "outputs": [
    {
     "data": {
      "text/html": [
       "<div>\n",
       "<style scoped>\n",
       "    .dataframe tbody tr th:only-of-type {\n",
       "        vertical-align: middle;\n",
       "    }\n",
       "\n",
       "    .dataframe tbody tr th {\n",
       "        vertical-align: top;\n",
       "    }\n",
       "\n",
       "    .dataframe thead th {\n",
       "        text-align: right;\n",
       "    }\n",
       "</style>\n",
       "<table border=\"1\" class=\"dataframe\">\n",
       "  <thead>\n",
       "    <tr style=\"text-align: right;\">\n",
       "      <th></th>\n",
       "      <th>X</th>\n",
       "      <th>Y</th>\n",
       "      <th>Z</th>\n",
       "    </tr>\n",
       "  </thead>\n",
       "  <tbody>\n",
       "    <tr>\n",
       "      <th>a0</th>\n",
       "      <td>0.866531</td>\n",
       "      <td>0.673036</td>\n",
       "      <td>-1.428936</td>\n",
       "    </tr>\n",
       "    <tr>\n",
       "      <th>a1</th>\n",
       "      <td>NaN</td>\n",
       "      <td>NaN</td>\n",
       "      <td>NaN</td>\n",
       "    </tr>\n",
       "    <tr>\n",
       "      <th>a10</th>\n",
       "      <td>-0.958417</td>\n",
       "      <td>0.212438</td>\n",
       "      <td>0.700142</td>\n",
       "    </tr>\n",
       "    <tr>\n",
       "      <th>a11</th>\n",
       "      <td>NaN</td>\n",
       "      <td>NaN</td>\n",
       "      <td>NaN</td>\n",
       "    </tr>\n",
       "    <tr>\n",
       "      <th>a20</th>\n",
       "      <td>-0.690858</td>\n",
       "      <td>0.534668</td>\n",
       "      <td>-1.072700</td>\n",
       "    </tr>\n",
       "    <tr>\n",
       "      <th>a21</th>\n",
       "      <td>NaN</td>\n",
       "      <td>NaN</td>\n",
       "      <td>NaN</td>\n",
       "    </tr>\n",
       "    <tr>\n",
       "      <th>a30</th>\n",
       "      <td>1.077827</td>\n",
       "      <td>-1.640559</td>\n",
       "      <td>-0.329707</td>\n",
       "    </tr>\n",
       "    <tr>\n",
       "      <th>a31</th>\n",
       "      <td>NaN</td>\n",
       "      <td>NaN</td>\n",
       "      <td>NaN</td>\n",
       "    </tr>\n",
       "    <tr>\n",
       "      <th>a40</th>\n",
       "      <td>0.996985</td>\n",
       "      <td>0.340751</td>\n",
       "      <td>0.655725</td>\n",
       "    </tr>\n",
       "    <tr>\n",
       "      <th>a41</th>\n",
       "      <td>NaN</td>\n",
       "      <td>NaN</td>\n",
       "      <td>NaN</td>\n",
       "    </tr>\n",
       "  </tbody>\n",
       "</table>\n",
       "</div>"
      ],
      "text/plain": [
       "            X         Y         Z\n",
       "a0   0.866531  0.673036 -1.428936\n",
       "a1        NaN       NaN       NaN\n",
       "a10 -0.958417  0.212438  0.700142\n",
       "a11       NaN       NaN       NaN\n",
       "a20 -0.690858  0.534668 -1.072700\n",
       "a21       NaN       NaN       NaN\n",
       "a30  1.077827 -1.640559 -0.329707\n",
       "a31       NaN       NaN       NaN\n",
       "a40  0.996985  0.340751  0.655725\n",
       "a41       NaN       NaN       NaN"
      ]
     },
     "execution_count": 16,
     "metadata": {},
     "output_type": "execute_result"
    }
   ],
   "source": [
    "df2 = df2.reindex(['a0', 'a1', 'a10', 'a11', 'a20', 'a21', 'a30', 'a31', 'a40', 'a41'])\n",
    "df2"
   ]
  },
  {
   "cell_type": "code",
   "execution_count": 17,
   "metadata": {},
   "outputs": [
    {
     "data": {
      "text/html": [
       "<div>\n",
       "<style scoped>\n",
       "    .dataframe tbody tr th:only-of-type {\n",
       "        vertical-align: middle;\n",
       "    }\n",
       "\n",
       "    .dataframe tbody tr th {\n",
       "        vertical-align: top;\n",
       "    }\n",
       "\n",
       "    .dataframe thead th {\n",
       "        text-align: right;\n",
       "    }\n",
       "</style>\n",
       "<table border=\"1\" class=\"dataframe\">\n",
       "  <thead>\n",
       "    <tr style=\"text-align: right;\">\n",
       "      <th></th>\n",
       "      <th>X</th>\n",
       "      <th>Y</th>\n",
       "      <th>Z</th>\n",
       "    </tr>\n",
       "  </thead>\n",
       "  <tbody>\n",
       "    <tr>\n",
       "      <th>a0</th>\n",
       "      <td>0.866531</td>\n",
       "      <td>0.673036</td>\n",
       "      <td>-1.428936</td>\n",
       "    </tr>\n",
       "    <tr>\n",
       "      <th>a1</th>\n",
       "      <td>0.000000</td>\n",
       "      <td>0.000000</td>\n",
       "      <td>0.000000</td>\n",
       "    </tr>\n",
       "    <tr>\n",
       "      <th>a10</th>\n",
       "      <td>-0.958417</td>\n",
       "      <td>0.212438</td>\n",
       "      <td>0.700142</td>\n",
       "    </tr>\n",
       "    <tr>\n",
       "      <th>a11</th>\n",
       "      <td>0.000000</td>\n",
       "      <td>0.000000</td>\n",
       "      <td>0.000000</td>\n",
       "    </tr>\n",
       "    <tr>\n",
       "      <th>a20</th>\n",
       "      <td>-0.690858</td>\n",
       "      <td>0.534668</td>\n",
       "      <td>-1.072700</td>\n",
       "    </tr>\n",
       "    <tr>\n",
       "      <th>a21</th>\n",
       "      <td>0.000000</td>\n",
       "      <td>0.000000</td>\n",
       "      <td>0.000000</td>\n",
       "    </tr>\n",
       "    <tr>\n",
       "      <th>a30</th>\n",
       "      <td>1.077827</td>\n",
       "      <td>-1.640559</td>\n",
       "      <td>-0.329707</td>\n",
       "    </tr>\n",
       "    <tr>\n",
       "      <th>a31</th>\n",
       "      <td>0.000000</td>\n",
       "      <td>0.000000</td>\n",
       "      <td>0.000000</td>\n",
       "    </tr>\n",
       "    <tr>\n",
       "      <th>a40</th>\n",
       "      <td>0.996985</td>\n",
       "      <td>0.340751</td>\n",
       "      <td>0.655725</td>\n",
       "    </tr>\n",
       "    <tr>\n",
       "      <th>a41</th>\n",
       "      <td>0.000000</td>\n",
       "      <td>0.000000</td>\n",
       "      <td>0.000000</td>\n",
       "    </tr>\n",
       "  </tbody>\n",
       "</table>\n",
       "</div>"
      ],
      "text/plain": [
       "            X         Y         Z\n",
       "a0   0.866531  0.673036 -1.428936\n",
       "a1   0.000000  0.000000  0.000000\n",
       "a10 -0.958417  0.212438  0.700142\n",
       "a11  0.000000  0.000000  0.000000\n",
       "a20 -0.690858  0.534668 -1.072700\n",
       "a21  0.000000  0.000000  0.000000\n",
       "a30  1.077827 -1.640559 -0.329707\n",
       "a31  0.000000  0.000000  0.000000\n",
       "a40  0.996985  0.340751  0.655725\n",
       "a41  0.000000  0.000000  0.000000"
      ]
     },
     "execution_count": 17,
     "metadata": {},
     "output_type": "execute_result"
    }
   ],
   "source": [
    "df2.fillna(0)"
   ]
  },
  {
   "cell_type": "code",
   "execution_count": 18,
   "metadata": {},
   "outputs": [
    {
     "data": {
      "text/html": [
       "<div>\n",
       "<style scoped>\n",
       "    .dataframe tbody tr th:only-of-type {\n",
       "        vertical-align: middle;\n",
       "    }\n",
       "\n",
       "    .dataframe tbody tr th {\n",
       "        vertical-align: top;\n",
       "    }\n",
       "\n",
       "    .dataframe thead th {\n",
       "        text-align: right;\n",
       "    }\n",
       "</style>\n",
       "<table border=\"1\" class=\"dataframe\">\n",
       "  <thead>\n",
       "    <tr style=\"text-align: right;\">\n",
       "      <th></th>\n",
       "      <th>X</th>\n",
       "      <th>Y</th>\n",
       "      <th>Z</th>\n",
       "    </tr>\n",
       "  </thead>\n",
       "  <tbody>\n",
       "    <tr>\n",
       "      <th>a0</th>\n",
       "      <td>0.866531</td>\n",
       "      <td>0.673036</td>\n",
       "      <td>-1.428936</td>\n",
       "    </tr>\n",
       "    <tr>\n",
       "      <th>a1</th>\n",
       "      <td>0.866531</td>\n",
       "      <td>0.673036</td>\n",
       "      <td>-1.428936</td>\n",
       "    </tr>\n",
       "    <tr>\n",
       "      <th>a10</th>\n",
       "      <td>-0.958417</td>\n",
       "      <td>0.212438</td>\n",
       "      <td>0.700142</td>\n",
       "    </tr>\n",
       "    <tr>\n",
       "      <th>a11</th>\n",
       "      <td>-0.958417</td>\n",
       "      <td>0.212438</td>\n",
       "      <td>0.700142</td>\n",
       "    </tr>\n",
       "    <tr>\n",
       "      <th>a20</th>\n",
       "      <td>-0.690858</td>\n",
       "      <td>0.534668</td>\n",
       "      <td>-1.072700</td>\n",
       "    </tr>\n",
       "    <tr>\n",
       "      <th>a21</th>\n",
       "      <td>-0.690858</td>\n",
       "      <td>0.534668</td>\n",
       "      <td>-1.072700</td>\n",
       "    </tr>\n",
       "    <tr>\n",
       "      <th>a30</th>\n",
       "      <td>1.077827</td>\n",
       "      <td>-1.640559</td>\n",
       "      <td>-0.329707</td>\n",
       "    </tr>\n",
       "    <tr>\n",
       "      <th>a31</th>\n",
       "      <td>1.077827</td>\n",
       "      <td>-1.640559</td>\n",
       "      <td>-0.329707</td>\n",
       "    </tr>\n",
       "    <tr>\n",
       "      <th>a40</th>\n",
       "      <td>0.996985</td>\n",
       "      <td>0.340751</td>\n",
       "      <td>0.655725</td>\n",
       "    </tr>\n",
       "    <tr>\n",
       "      <th>a41</th>\n",
       "      <td>0.996985</td>\n",
       "      <td>0.340751</td>\n",
       "      <td>0.655725</td>\n",
       "    </tr>\n",
       "  </tbody>\n",
       "</table>\n",
       "</div>"
      ],
      "text/plain": [
       "            X         Y         Z\n",
       "a0   0.866531  0.673036 -1.428936\n",
       "a1   0.866531  0.673036 -1.428936\n",
       "a10 -0.958417  0.212438  0.700142\n",
       "a11 -0.958417  0.212438  0.700142\n",
       "a20 -0.690858  0.534668 -1.072700\n",
       "a21 -0.690858  0.534668 -1.072700\n",
       "a30  1.077827 -1.640559 -0.329707\n",
       "a31  1.077827 -1.640559 -0.329707\n",
       "a40  0.996985  0.340751  0.655725\n",
       "a41  0.996985  0.340751  0.655725"
      ]
     },
     "execution_count": 18,
     "metadata": {},
     "output_type": "execute_result"
    }
   ],
   "source": [
    "# If you want to fill the value with forward propagation, which means that\n",
    "# the value previous to the null value in the column will be used to fill the\n",
    "# null value, the following command can be used:\n",
    "df2.fillna(method = 'pad')"
   ]
  },
  {
   "cell_type": "code",
   "execution_count": 19,
   "metadata": {},
   "outputs": [
    {
     "data": {
      "text/html": [
       "<div>\n",
       "<style scoped>\n",
       "    .dataframe tbody tr th:only-of-type {\n",
       "        vertical-align: middle;\n",
       "    }\n",
       "\n",
       "    .dataframe tbody tr th {\n",
       "        vertical-align: top;\n",
       "    }\n",
       "\n",
       "    .dataframe thead th {\n",
       "        text-align: right;\n",
       "    }\n",
       "</style>\n",
       "<table border=\"1\" class=\"dataframe\">\n",
       "  <thead>\n",
       "    <tr style=\"text-align: right;\">\n",
       "      <th></th>\n",
       "      <th>X</th>\n",
       "      <th>Y</th>\n",
       "      <th>Z</th>\n",
       "    </tr>\n",
       "  </thead>\n",
       "  <tbody>\n",
       "    <tr>\n",
       "      <th>a0</th>\n",
       "      <td>0.866531</td>\n",
       "      <td>0.673036</td>\n",
       "      <td>-1.428936</td>\n",
       "    </tr>\n",
       "    <tr>\n",
       "      <th>a1</th>\n",
       "      <td>0.258413</td>\n",
       "      <td>0.024067</td>\n",
       "      <td>-0.295095</td>\n",
       "    </tr>\n",
       "    <tr>\n",
       "      <th>a10</th>\n",
       "      <td>-0.958417</td>\n",
       "      <td>0.212438</td>\n",
       "      <td>0.700142</td>\n",
       "    </tr>\n",
       "    <tr>\n",
       "      <th>a11</th>\n",
       "      <td>0.258413</td>\n",
       "      <td>0.024067</td>\n",
       "      <td>-0.295095</td>\n",
       "    </tr>\n",
       "    <tr>\n",
       "      <th>a20</th>\n",
       "      <td>-0.690858</td>\n",
       "      <td>0.534668</td>\n",
       "      <td>-1.072700</td>\n",
       "    </tr>\n",
       "    <tr>\n",
       "      <th>a21</th>\n",
       "      <td>0.258413</td>\n",
       "      <td>0.024067</td>\n",
       "      <td>-0.295095</td>\n",
       "    </tr>\n",
       "    <tr>\n",
       "      <th>a30</th>\n",
       "      <td>1.077827</td>\n",
       "      <td>-1.640559</td>\n",
       "      <td>-0.329707</td>\n",
       "    </tr>\n",
       "    <tr>\n",
       "      <th>a31</th>\n",
       "      <td>0.258413</td>\n",
       "      <td>0.024067</td>\n",
       "      <td>-0.295095</td>\n",
       "    </tr>\n",
       "    <tr>\n",
       "      <th>a40</th>\n",
       "      <td>0.996985</td>\n",
       "      <td>0.340751</td>\n",
       "      <td>0.655725</td>\n",
       "    </tr>\n",
       "    <tr>\n",
       "      <th>a41</th>\n",
       "      <td>0.258413</td>\n",
       "      <td>0.024067</td>\n",
       "      <td>-0.295095</td>\n",
       "    </tr>\n",
       "  </tbody>\n",
       "</table>\n",
       "</div>"
      ],
      "text/plain": [
       "            X         Y         Z\n",
       "a0   0.866531  0.673036 -1.428936\n",
       "a1   0.258413  0.024067 -0.295095\n",
       "a10 -0.958417  0.212438  0.700142\n",
       "a11  0.258413  0.024067 -0.295095\n",
       "a20 -0.690858  0.534668 -1.072700\n",
       "a21  0.258413  0.024067 -0.295095\n",
       "a30  1.077827 -1.640559 -0.329707\n",
       "a31  0.258413  0.024067 -0.295095\n",
       "a40  0.996985  0.340751  0.655725\n",
       "a41  0.258413  0.024067 -0.295095"
      ]
     },
     "execution_count": 19,
     "metadata": {},
     "output_type": "execute_result"
    }
   ],
   "source": [
    "# If you want to fill the null values of the column with the column mean,\n",
    "# then the following command can be utilized:\n",
    "df2.fillna(df2.mean())"
   ]
  },
  {
   "cell_type": "code",
   "execution_count": 20,
   "metadata": {},
   "outputs": [],
   "source": [
    "# In order to extract the first word from the Area Name column, we'll use the\n",
    "# extract function as shown in the following command:\n",
    "# >>> df['AREA NAME'][0:5].str.extract('(\\w+)')\n",
    "# 0 RAVENA\n",
    "# 1 RAVENA\n",
    "# 2 RAVENA\n",
    "# 3 COHOES\n",
    "# 4 COHOES\n",
    "# Name: AREA NAME, dtype: object\n",
    "# In the preceding command, the str attribute of the series is utilized. The\n",
    "# str class contains an extract method, where a regular expression could\n",
    "# be fed to extract data, which is very powerful. It is also possible to extract\n",
    "# a second word in AREA NAME as a separate column:\n",
    "# >>> df['AREA NAME'][0:5].str.extract('(\\w+)\\s(\\w+)')\n",
    "# 0\n",
    "# 1\n",
    "# 0 RAVENA COEYMANS\n",
    "# 1 RAVENA COEYMANS\n",
    "# 2 RAVENA COEYMANS\n",
    "# 3 COHOES\n",
    "# CITY\n",
    "# 4 COHOES\n",
    "# CITY\n",
    "# To extract data in different columns, the respective regular expression\n",
    "# needs to be enclosed in separate parentheses."
   ]
  },
  {
   "cell_type": "code",
   "execution_count": 21,
   "metadata": {},
   "outputs": [],
   "source": [
    "# Filtering: If we want to filter rows with data on ELEMENTARY school, then\n",
    "# the following command can be used:\n",
    "# >>> df[df['GRADE LEVEL'] == 'ELEMENTARY']"
   ]
  },
  {
   "cell_type": "code",
   "execution_count": 22,
   "metadata": {},
   "outputs": [],
   "source": [
    "# df['AREA NAME'][0:5].str.upper()\n",
    "# df['AREA NAME'][0:5].str.lower()\n",
    "# df['AREA NAME'][0:5].str.len()"
   ]
  },
  {
   "cell_type": "code",
   "execution_count": 23,
   "metadata": {},
   "outputs": [],
   "source": [
    "# Split: To split Area Name based on a whitespace, we'll use the following\n",
    "# >>> df['AREA NAME'][0:5].str.split(' ')"
   ]
  },
  {
   "cell_type": "code",
   "execution_count": 24,
   "metadata": {},
   "outputs": [],
   "source": [
    "# # Replace: If we want to replace all the area names ending with DISTRICT\n",
    "# # to DIST , then the following command can be used:\n",
    "# # >>> df['AREA NAME'][0:5].str.replace('DISTRICT$','DIST')\n",
    "# The first argument in the replace method is the regular expression used\n",
    "# to identify the portion of the string to replace. The second argument is the\n",
    "# value for it to be replaced with."
   ]
  },
  {
   "cell_type": "code",
   "execution_count": 25,
   "metadata": {},
   "outputs": [],
   "source": [
    "# Average: To find out the average number of students in the\n",
    "# ELEMENTARY school who are obese, we'll first filter the ELEMENTARY data\n",
    "# with the following command:\n",
    "# >>> data = d[d['GRADE LEVEL'] == 'ELEMENTARY']\n",
    "# 213.41593780369291\n",
    "# Now, we'll find the mean using the following command:\n",
    "# >>> data['NO. OBESE'].mean()\n",
    "# The elementary grade level data is filtered and stored in the data object.\n",
    "# The NO. OBESE column is selected, which contains the number of obese\n",
    "# students and using the mean() method, the average is taken out."
   ]
  },
  {
   "cell_type": "code",
   "execution_count": 26,
   "metadata": {},
   "outputs": [],
   "source": [
    "# SUM: To find out the total number of elementary students who are\n",
    "# obese across all the school, use the following command:\n",
    "# >>> data['NO. OBESE'].sum()\n",
    "# 219605.0\n",
    "# MAX: To get the maximum number of students that are obese in an\n",
    "# elementary school, use the following command:\n",
    "# >>> data['NO. OBESE'].max()\n",
    "# 48843.0\n",
    "# MIN: To get the minimum number of students that are obese in an\n",
    "# elementary school, use the following command:\n",
    "# >>> data['NO. OBESE'].min()\n",
    "# 5.0\n",
    "# STD: To get the standard deviation of the number of obese students,\n",
    "# use the following command:\n",
    "# >>> data['NO. OBESE'].std()\n",
    "# 1690.3831128098113\n",
    "# COUNT: To count the total number of schools with the ELEMENTARY\n",
    "# grade in the DELAWARE county, use the following command:\n",
    "# >>> data = df[(d['GRADE LEVEL'] == 'ELEMENTARY') &\n",
    "# (d['COUNTY'] == 'DELAWARE')]\n",
    "# >>> data['COUNTY'].count()\n",
    "# 19\n",
    "# The table is filtered for the ELEMENTARY grade and the DELAWARE county.\n",
    "# Notice that the conditions are enclosed in parentheses. This is to ensure\n",
    "# that individual conditions are evaluated and if the parentheses are not\n",
    "# provided, then Python will throw an error."
   ]
  },
  {
   "cell_type": "code",
   "execution_count": null,
   "metadata": {},
   "outputs": [],
   "source": []
  }
 ],
 "metadata": {
  "kernelspec": {
   "display_name": "Python 3",
   "language": "python",
   "name": "python3"
  },
  "language_info": {
   "codemirror_mode": {
    "name": "ipython",
    "version": 3
   },
   "file_extension": ".py",
   "mimetype": "text/x-python",
   "name": "python",
   "nbconvert_exporter": "python",
   "pygments_lexer": "ipython3",
   "version": "3.7.3"
  }
 },
 "nbformat": 4,
 "nbformat_minor": 2
}
