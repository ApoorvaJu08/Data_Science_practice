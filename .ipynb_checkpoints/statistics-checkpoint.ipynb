{
 "cells": [
  {
   "cell_type": "code",
   "execution_count": 1,
   "metadata": {},
   "outputs": [],
   "source": [
    "from scipy.stats import binom\n",
    "import matplotlib.pyplot as plt"
   ]
  },
  {
   "cell_type": "code",
   "execution_count": 2,
   "metadata": {},
   "outputs": [
    {
     "data": {
      "image/png": "[encoded data removed]",
      "text/plain": [
       "<Figure size 432x288 with 1 Axes>"
      ]
     },
     "metadata": {
      "needs_background": "light"
     },
     "output_type": "display_data"
    }
   ],
   "source": [
    "fig, ax = plt.subplots(1, 1)\n",
    "x = [0, 1, 2, 3, 4, 5, 6]\n",
    "n, p = 6, 0.5\n",
    "rv = binom(n, p)\n",
    "ax.vlines(x, 0, rv.pmf(x), colors = 'k', linestyles = '-', lw = 3, label = 'Probability')\n",
    "ax.legend(loc = 'best', frameon = False)\n",
    "plt.show()"
   ]
  },
  {
   "cell_type": "code",
   "execution_count": 3,
   "metadata": {},
   "outputs": [],
   "source": [
    "# The binom function in the scipy package helps generate binomial distributions and necessary statistics related \n",
    "# to it. The plt.subplots function helps in generating multiple plots on a screen. The binom function takes in the \n",
    "# number of attempts and the probability of success. The ax.vlines is used to plot vertical lines and rv.pmf \n",
    "# within it helps in calculating the probability at various values of x "
   ]
  },
  {
   "cell_type": "code",
   "execution_count": 4,
   "metadata": {},
   "outputs": [],
   "source": [
    "# As you can see in the graph, if the coin is flipped six times, then getting\n",
    "# three heads has the maximum probability, whereas getting a single head\n",
    "# or five heads has the least probability."
   ]
  },
  {
   "cell_type": "code",
   "execution_count": 5,
   "metadata": {},
   "outputs": [],
   "source": [
    "# now lets increase the number of attempts"
   ]
  },
  {
   "cell_type": "code",
   "execution_count": 6,
   "metadata": {},
   "outputs": [
    {
     "data": {
      "image/png": "[encoded data removed]",
      "text/plain": [
       "<Figure size 432x288 with 1 Axes>"
      ]
     },
     "metadata": {
      "needs_background": "light"
     },
     "output_type": "display_data"
    }
   ],
   "source": [
    "fig, ax = plt.subplots(1, 1)\n",
    "x = range(101)\n",
    "n, p = 100, 0.5\n",
    "rv = binom(n, p)\n",
    "ax.vlines(x, 0, rv.pmf(x), colors = 'k', linestyles = '-', lw = 1, label = 'Probability')\n",
    "ax.legend(loc = 'best', frameon = False)\n",
    "plt.show()"
   ]
  },
  {
   "cell_type": "code",
   "execution_count": 7,
   "metadata": {},
   "outputs": [
    {
     "data": {
      "image/png": "[encoded data removed]",
      "text/plain": [
       "<Figure size 432x288 with 1 Axes>"
      ]
     },
     "metadata": {
      "needs_background": "light"
     },
     "output_type": "display_data"
    }
   ],
   "source": [
    "fig, ax = plt.subplots(1,1)\n",
    "x = range(101)\n",
    "n, p = 100, 0.4\n",
    "rv = binom(n, p)\n",
    "ax.vlines(x, 0, rv.pmf(x), colors = 'k', linestyles = '-', lw = 1, label = 'Probability')\n",
    "ax.legend(loc = 'best', frameon = False)\n",
    "plt.show()"
   ]
  },
  {
   "cell_type": "code",
   "execution_count": 8,
   "metadata": {},
   "outputs": [
    {
     "data": {
      "image/png": "[encoded data removed]",
      "text/plain": [
       "<Figure size 432x288 with 1 Axes>"
      ]
     },
     "metadata": {
      "needs_background": "light"
     },
     "output_type": "display_data"
    }
   ],
   "source": [
    "fig, ax = plt.subplots(1,1)\n",
    "x = range(101)\n",
    "n, p = 100, 0.6\n",
    "rv = binom(n, p)\n",
    "ax.vlines(x, 0, rv.pmf(x), colors = 'k', linestyles = '-', lw = 1, label = 'Probability')\n",
    "ax.legend(loc = 'best', frameon = False)\n",
    "plt.show()"
   ]
  },
  {
   "cell_type": "code",
   "execution_count": 9,
   "metadata": {},
   "outputs": [],
   "source": [
    "# A Poisson distribution is the probability distribution of independent\n",
    "# interval occurrences in an interval. A binomial distribution is used to\n",
    "# determine the probability of binary occurrences, whereas, a Poisson\n",
    "# distribution is used for count-based distributions. If lambda is the mean\n",
    "# occurrence of the events per interval, then the probability of having a k\n",
    "# occurrence within a given interval is given by the following formula:\n",
    "# Here, e is the Euler's number, k is the number of occurrences for which\n",
    "# the probability is going to be determined, and lambda is the mean\n",
    "# number of occurrences.\n",
    "# Let's understand this with an example. The number of cars that pass\n",
    "# through a bridge in an hour is 20. What would be the probability of 23\n",
    "# cars passing through the bridge in an hour?"
   ]
  },
  {
   "cell_type": "code",
   "execution_count": 10,
   "metadata": {},
   "outputs": [
    {
     "data": {
      "text/plain": [
       "0.06688147366240117"
      ]
     },
     "execution_count": 10,
     "metadata": {},
     "output_type": "execute_result"
    }
   ],
   "source": [
    "from scipy.stats import poisson\n",
    "rv = poisson(20)\n",
    "rv.pmf(23)"
   ]
  },
  {
   "cell_type": "code",
   "execution_count": 11,
   "metadata": {},
   "outputs": [],
   "source": [
    "# With the Poisson function, we define the mean value, which is 20 cars.\n",
    "# The rv.pmf function gives the probability, which is around 6%, that 23\n",
    "# cars will pass the bridge."
   ]
  },
  {
   "cell_type": "code",
   "execution_count": 12,
   "metadata": {},
   "outputs": [
    {
     "data": {
      "text/plain": [
       "array([1, 0, 1, 1, 0, 1, 1, 0, 1, 0, 0, 0, 1, 1, 1, 1, 0, 1, 1, 0, 0, 0,\n",
       "       1, 1, 1, 1, 1, 1, 0, 0, 0, 0, 1, 1, 1, 1, 1, 1, 1, 1, 1, 1, 1, 1,\n",
       "       0, 0, 1, 0, 1, 1, 1, 1, 1, 1, 1, 1, 1, 0, 0, 1, 1, 1, 1, 1, 1, 0,\n",
       "       0, 0, 1, 1, 1, 1, 1, 1, 0, 1, 1, 0, 1, 1, 1, 1, 1, 0, 1, 1, 1, 1,\n",
       "       1, 1, 1, 1, 0, 1, 0, 1, 0, 0, 1, 1])"
      ]
     },
     "execution_count": 12,
     "metadata": {},
     "output_type": "execute_result"
    }
   ],
   "source": [
    "#bernoulli\n",
    "from scipy import stats\n",
    "stats.bernoulli.rvs(0.7, size = 100)\n",
    "# If the preceding output is the number of votes for a candidate by people,\n",
    "# then the candidate has 70% of the votes."
   ]
  },
  {
   "cell_type": "markdown",
   "metadata": {},
   "source": [
    "# z-score"
   ]
  },
  {
   "cell_type": "code",
   "execution_count": 15,
   "metadata": {},
   "outputs": [
    {
     "data": {
      "text/plain": [
       "array([39., 44., 48., 36., 54., 44., 72., 27., 45., 42., 39., 39., 46.,\n",
       "       53., 59., 44., 48., 50., 63., 35., 50., 42., 42., 44., 55., 49.,\n",
       "       45., 50., 51., 45., 35., 36., 56., 57., 62., 37., 41., 45., 47.,\n",
       "       51., 58., 49., 43., 52., 39., 31., 50., 41., 52., 47., 52., 69.,\n",
       "       35., 43., 51., 48., 59., 42., 39., 41.])"
      ]
     },
     "execution_count": 15,
     "metadata": {},
     "output_type": "execute_result"
    }
   ],
   "source": [
    "import numpy as np\n",
    "# A classroom has 60 students in it and they have just got their\n",
    "# mathematics examination score. We simulate the score of these 60\n",
    "# students with a normal distribution using the following command:\n",
    "classscore = np.random.normal(50, 10, 60).round()\n",
    "classscore"
   ]
  },
  {
   "cell_type": "code",
   "execution_count": 18,
   "metadata": {},
   "outputs": [
    {
     "name": "stderr",
     "output_type": "stream",
     "text": [
      "/home/apoorva/anaconda3/lib/python3.7/site-packages/ipykernel_launcher.py:6: MatplotlibDeprecationWarning: \n",
      "The 'normed' kwarg was deprecated in Matplotlib 2.1 and will be removed in 3.1. Use 'density' instead.\n",
      "  \n"
     ]
    },
    {
     "data": {
      "image/png": "[encoded data removed]",
      "text/plain": [
       "<Figure size 432x288 with 1 Axes>"
      ]
     },
     "metadata": {
      "needs_background": "light"
     },
     "output_type": "display_data"
    }
   ],
   "source": [
    "# The NumPy package has a random module that has a normal function,\n",
    "# where 50 is given as the mean of the distribution, 10 is the standard\n",
    "# deviation of the distribution, and 60 is the number of values to be\n",
    "# generated. You can plot the normal distribution with the following\n",
    "# commands:\n",
    "plt.hist(classscore, 30, normed = True)\n",
    "#number of breaks is 30\n",
    "plt.show()"
   ]
  },
  {
   "cell_type": "code",
   "execution_count": 19,
   "metadata": {},
   "outputs": [
    {
     "data": {
      "text/plain": [
       "array([-0.89672945, -0.32190288,  0.13795838, -1.2416254 ,  0.82775026,\n",
       "       -0.32190288,  2.89712592, -2.27631323, -0.20693757, -0.55183351,\n",
       "       -0.89672945, -0.89672945, -0.09197225,  0.71278495,  1.40257684,\n",
       "       -0.32190288,  0.13795838,  0.36788901,  1.86243809, -1.35659071,\n",
       "        0.36788901, -0.55183351, -0.55183351, -0.32190288,  0.94271558,\n",
       "        0.25292369, -0.20693757,  0.36788901,  0.48285432, -0.20693757,\n",
       "       -1.35659071, -1.2416254 ,  1.05768089,  1.17264621,  1.74747278,\n",
       "       -1.12666008, -0.66679882, -0.20693757,  0.02299306,  0.48285432,\n",
       "        1.28761152,  0.25292369, -0.43686819,  0.59781964, -0.89672945,\n",
       "       -1.81645197,  0.36788901, -0.66679882,  0.59781964,  0.02299306,\n",
       "        0.59781964,  2.55222998, -1.35659071, -0.43686819,  0.48285432,\n",
       "        0.13795838,  1.40257684, -0.55183351, -0.89672945, -0.66679882])"
      ]
     },
     "execution_count": 19,
     "metadata": {},
     "output_type": "execute_result"
    }
   ],
   "source": [
    "# The score of each student can be converted to a z-score using the\n",
    "# following functions:\n",
    "stats.zscore(classscore)"
   ]
  },
  {
   "cell_type": "code",
   "execution_count": 20,
   "metadata": {},
   "outputs": [],
   "source": [
    "# So, a student with a score of 60 out of 100 has a z-score of 1.334. To\n",
    "# make more sense of the z-score, we'll use the standard normal table.This table helps in determining the \n",
    "# probability of a score.\n",
    "# We would like to know what the probability of getting a score above 60\n",
    "# would be.\n",
    "# The standard normal table can help us in determining the probability of\n",
    "# the occurrence of the score, but we do not have to perform the\n",
    "# cumbersome task of finding the value by looking through the table and\n",
    "# finding the probability. This task is made simple by the cdf function, which\n",
    "# is the cumulative distribution function:\n",
    "# >>> prob = 1 - stats.norm.cdf(1.334)\n",
    "# >>> prob\n",
    "# 0.091101928265359899\n",
    "# The cdf function gives the probability of getting values up to the z-score\n",
    "# of 1.334 , and doing a minus one of it will give us the probability of getting\n",
    "# a z-score, which is above it. In other words, 0.09 is the probability of\n",
    "# getting marks above 60."
   ]
  },
  {
   "cell_type": "code",
   "execution_count": 21,
   "metadata": {},
   "outputs": [],
   "source": [
    "# Let's ask another question, \"how many students made it to the top 20%\n",
    "# of the class?\"Here, we'll have to work backwards to determine the marks at which all\n",
    "# the students above it are in the top 20% of the class:\n",
    "# Now, to get the z-score at which the top 20% score marks, we can use\n",
    "# the ppf function in SciPy:\n",
    "# >>> stats.norm.ppf(0.80)\n",
    "# 0.8416212335729143\n",
    "# The z-score for the preceding output that determines whether the top\n",
    "# 20% marks are at 0.84 is as follows:\n",
    "# >>> (0.84 * classscore.std()) + classscore.mean()\n",
    "# 55.942594176524267\n",
    "# We multiply the z-score with the standard deviation and then add the\n",
    "# result with the mean of the distribution. This helps in converting the z-\n",
    "# score to a value in the distribution. The 55.83 marks means that students\n",
    "# who have marks more than this are in the top 20% of the distribution."
   ]
  },
  {
   "cell_type": "markdown",
   "metadata": {},
   "source": [
    "# p-score"
   ]
  },
  {
   "cell_type": "code",
   "execution_count": 22,
   "metadata": {},
   "outputs": [
    {
     "data": {
      "text/plain": [
       "2.4372646663136766"
      ]
     },
     "execution_count": 22,
     "metadata": {},
     "output_type": "execute_result"
    }
   ],
   "source": [
    "# Let's understand this concept with an example where the null\n",
    "# hypothesis is that it is common for students to score 68 marks in\n",
    "# mathematics.\n",
    "# Let's define the significance level at 5%. If the p-value is less than 5%,\n",
    "# then the null hypothesis is rejected and it is not common to score 68\n",
    "# marks in mathematics.\n",
    "zscore = (68 - classscore.mean())/classscore.std()\n",
    "zscore"
   ]
  },
  {
   "cell_type": "code",
   "execution_count": 23,
   "metadata": {},
   "outputs": [
    {
     "data": {
      "text/plain": [
       "0.007399421694703201"
      ]
     },
     "execution_count": 23,
     "metadata": {},
     "output_type": "execute_result"
    }
   ],
   "source": [
    "# now lets get the value\n",
    "prob = 1 - stats.norm.cdf(zscore)\n",
    "prob"
   ]
  },
  {
   "cell_type": "code",
   "execution_count": 24,
   "metadata": {},
   "outputs": [],
   "source": [
    "# So, you can see that the p-value is at 0.7%, which is lower than the\n",
    "# significance level. This means that the null hypothesis can be rejected,\n",
    "# and it can be said that it's not common to get 68 marks in mathematics."
   ]
  },
  {
   "cell_type": "code",
   "execution_count": 26,
   "metadata": {},
   "outputs": [],
   "source": [
    "# # The example in the previous section was an instance of a one-tailed test\n",
    "# # where the null hypothesis is rejected or accepted based on one direction\n",
    "# # of the normal distribution.\n",
    "# In a two-tailed test, both the tails of the null hypothesis are used to test\n",
    "# the hypothesis.\n",
    "# In a two-tailed test, when a significance level of 5% is used, then it is\n",
    "# distributed equally in the both directions, that is, 2.5% of it in one\n",
    "# direction and 2.5% in the other direction."
   ]
  },
  {
   "cell_type": "code",
   "execution_count": 27,
   "metadata": {},
   "outputs": [],
   "source": [
    "# Let's understand this with an example. The mean score of the\n",
    "# mathematics exam at a national level is 60 marks and the standard\n",
    "# deviation is 3 marks.\n",
    "# The mean marks of a class are 53. The null hypothesis is that the mean\n",
    "# marks of the class are similar to the national average. Let's test this\n",
    "# hypothesis by first getting the z-score 60:"
   ]
  },
  {
   "cell_type": "code",
   "execution_count": 28,
   "metadata": {},
   "outputs": [
    {
     "data": {
      "text/plain": [
       "-2.3333333333333335"
      ]
     },
     "execution_count": 28,
     "metadata": {},
     "output_type": "execute_result"
    }
   ],
   "source": [
    "zscore = ( 53 - 60 ) / 3.0\n",
    "zscore"
   ]
  },
  {
   "cell_type": "code",
   "execution_count": 29,
   "metadata": {},
   "outputs": [
    {
     "data": {
      "text/plain": [
       "0.009815328628645334"
      ]
     },
     "execution_count": 29,
     "metadata": {},
     "output_type": "execute_result"
    }
   ],
   "source": [
    "prob = stats.norm.cdf(zscore)\n",
    "prob"
   ]
  },
  {
   "cell_type": "code",
   "execution_count": 30,
   "metadata": {},
   "outputs": [],
   "source": [
    "# So, the p-value is 0.98%. The null hypothesis is to be rejected, and the p-\n",
    "# value should be less than 2.5% in either direction of the bell curve. Since\n",
    "# the p-value is less than 2.5%, we can reject the null hypothesis and\n",
    "# clearly state that the average marks of the class are significantly different\n",
    "# from the national average."
   ]
  },
  {
   "cell_type": "code",
   "execution_count": null,
   "metadata": {},
   "outputs": [],
   "source": []
  }
 ],
 "metadata": {
  "kernelspec": {
   "display_name": "Python 3",
   "language": "python",
   "name": "python3"
  },
  "language_info": {
   "codemirror_mode": {
    "name": "ipython",
    "version": 3
   },
   "file_extension": ".py",
   "mimetype": "text/x-python",
   "name": "python",
   "nbconvert_exporter": "python",
   "pygments_lexer": "ipython3",
   "version": "3.7.3"
  }
 },
 "nbformat": 4,
 "nbformat_minor": 2
}
